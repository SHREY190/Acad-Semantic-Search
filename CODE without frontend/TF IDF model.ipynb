{
  "nbformat": 4,
  "nbformat_minor": 0,
  "metadata": {
    "colab": {
      "provenance": []
    },
    "kernelspec": {
      "name": "python3",
      "display_name": "Python 3"
    },
    "language_info": {
      "name": "python"
    }
  },
  "cells": [
    {
      "cell_type": "markdown",
      "source": [
        "Tf=(Nij)/SUM(Nij)\n",
        "\n",
        "Idf =log (N/DF)  # N is number of documents and df is document frequency of given term\n",
        "\n",
        "TF-IDF =TfxIdf "
      ],
      "metadata": {
        "id": "JZQAGhL7bCXx"
      }
    },
    {
      "cell_type": "code",
      "execution_count": null,
      "metadata": {
        "id": "jI_HvAEqLEyS",
        "colab": {
          "base_uri": "https://localhost:8080/"
        },
        "outputId": "7ccf3dfd-c269-485a-8218-66d9e270d7ef"
      },
      "outputs": [
        {
          "output_type": "stream",
          "name": "stderr",
          "text": [
            "/usr/local/lib/python3.9/dist-packages/torch/cuda/__init__.py:497: UserWarning: Can't initialize NVML\n",
            "  warnings.warn(\"Can't initialize NVML\")\n"
          ]
        }
      ],
      "source": [
        "from sklearn.feature_extraction.text import TfidfVectorizer\n",
        "from spacy.lang.en import English\n",
        "import numpy as np"
      ]
    },
    {
      "cell_type": "markdown",
      "source": [
        "**spacy model for sentence tokenization**"
      ],
      "metadata": {
        "id": "BLfc6J-jPXWa"
      }
    },
    {
      "cell_type": "code",
      "source": [
        "nlp = English()\n",
        "nlp.add_pipe('sentencizer')"
      ],
      "metadata": {
        "id": "dkygnk72Ip9j",
        "colab": {
          "base_uri": "https://localhost:8080/"
        },
        "outputId": "8237e9a3-a70f-4996-c55e-1866734618df"
      },
      "execution_count": null,
      "outputs": [
        {
          "output_type": "execute_result",
          "data": {
            "text/plain": [
              "<spacy.pipeline.sentencizer.Sentencizer at 0x7f84efb02140>"
            ]
          },
          "metadata": {},
          "execution_count": 2
        }
      ]
    },
    {
      "cell_type": "code",
      "source": [
        "\n",
        "text_corpus = \"\"\"\n",
        "Global pollution refers to the presence of harmful substances in the environment that cause negative impacts on human health and the ecosystem. It affects both the natural and built environment, and can be caused by various human activities such as industrialization, transportation, and agriculture.\n",
        "\n",
        "There are several forms of pollution that exist, including air, water, soil, and noise pollution. Air pollution is caused by emissions from factories, power plants, and vehicles. It results in the release of harmful chemicals such as sulfur dioxide, nitrogen oxides, and particulate matter into the air, which can cause respiratory problems, cardiovascular disease, and other health issues.\n",
        "\n",
        "Water pollution occurs when chemicals and waste products are released into bodies of water, causing harm to aquatic life and threatening human health. Sources of water pollution include industrial effluent, agricultural runoff, and sewage. Soil pollution is caused by the accumulation of hazardous chemicals and waste products in the ground, which can result in the contamination of crops and other food sources.\n",
        "\n",
        "Noise pollution is caused by excessive noise from various sources, including transportation, construction, and industrial activities. It can cause hearing damage and disrupt the balance of wildlife populations.\n",
        "\n",
        "Global pollution is a major threat to human health and the environment, and it is essential that steps are taken to reduce its impact. This can be achieved through the adoption of sustainable practices in industry, transportation, and agriculture, as well as the implementation of environmental regulations and policies aimed at reducing pollution and protecting the environment.\n",
        "\n",
        "In conclusion, global pollution is a complex and pressing issue that requires the cooperation and efforts of individuals, organizations, and governments worldwide to effectively address.\n",
        "\n",
        "\n",
        "\n",
        "\n",
        "\"\"\""
      ],
      "metadata": {
        "id": "F-82EXPOHuX3"
      },
      "execution_count": null,
      "outputs": []
    },
    {
      "cell_type": "markdown",
      "source": [
        "**spacy document for sentence level tokenization**"
      ],
      "metadata": {
        "id": "8ZUVMwmMPeND"
      }
    },
    {
      "cell_type": "code",
      "source": [
        "doc = nlp(text_corpus.replace(\"\\n\", \"\"))\n",
        "sentences = [sent.text.strip() for sent in doc.sents]"
      ],
      "metadata": {
        "id": "s6XN-GY_IKuB"
      },
      "execution_count": null,
      "outputs": []
    },
    {
      "cell_type": "code",
      "source": [
        "print(\"Senetence are: \\n\", sentences)"
      ],
      "metadata": {
        "id": "baPd31tgLtsA",
        "colab": {
          "base_uri": "https://localhost:8080/"
        },
        "outputId": "a0771b0e-1126-43a0-b474-9e29fc2f6c47"
      },
      "execution_count": null,
      "outputs": [
        {
          "output_type": "stream",
          "name": "stdout",
          "text": [
            "Senetence are: \n",
            " ['Global pollution refers to the presence of harmful substances in the environment that cause negative impacts on human health and the ecosystem.', 'It affects both the natural and built environment, and can be caused by various human activities such as industrialization, transportation, and agriculture.', 'There are several forms of pollution that exist, including air, water, soil, and noise pollution.', 'Air pollution is caused by emissions from factories, power plants, and vehicles.', 'It results in the release of harmful chemicals such as sulfur dioxide, nitrogen oxides, and particulate matter into the air, which can cause respiratory problems, cardiovascular disease, and other health issues.', 'Water pollution occurs when chemicals and waste products are released into bodies of water, causing harm to aquatic life and threatening human health.', 'Sources of water pollution include industrial effluent, agricultural runoff, and sewage.', 'Soil pollution is caused by the accumulation of hazardous chemicals and waste products in the ground, which can result in the contamination of crops and other food sources.', 'Noise pollution is caused by excessive noise from various sources, including transportation, construction, and industrial activities.', 'It can cause hearing damage and disrupt the balance of wildlife populations.', 'Global pollution is a major threat to human health and the environment, and it is essential that steps are taken to reduce its impact.', 'This can be achieved through the adoption of sustainable practices in industry, transportation, and agriculture, as well as the implementation of environmental regulations and policies aimed at reducing pollution and protecting the environment.', 'In conclusion, global pollution is a complex and pressing issue that requires the cooperation and efforts of individuals, organizations, and governments worldwide to effectively address.']\n"
          ]
        }
      ]
    },
    {
      "cell_type": "markdown",
      "source": [
        "**Sentence organizer**"
      ],
      "metadata": {
        "id": "JIwwndDpPjiq"
      }
    },
    {
      "cell_type": "code",
      "source": [
        "sentence_organizer = {k:v for v,k in enumerate(sentences)}"
      ],
      "metadata": {
        "id": "V_0U0_viLwMo"
      },
      "execution_count": null,
      "outputs": []
    },
    {
      "cell_type": "code",
      "source": [
        "print(\"Our sentence organizer: \\n\", sentence_organizer)"
      ],
      "metadata": {
        "id": "4gmJbdHsLzbj",
        "colab": {
          "base_uri": "https://localhost:8080/"
        },
        "outputId": "caece59f-5cbf-4698-c571-f4cef6c5903e"
      },
      "execution_count": null,
      "outputs": [
        {
          "output_type": "stream",
          "name": "stdout",
          "text": [
            "Our sentence organizer: \n",
            " {'Global pollution refers to the presence of harmful substances in the environment that cause negative impacts on human health and the ecosystem.': 0, 'It affects both the natural and built environment, and can be caused by various human activities such as industrialization, transportation, and agriculture.': 1, 'There are several forms of pollution that exist, including air, water, soil, and noise pollution.': 2, 'Air pollution is caused by emissions from factories, power plants, and vehicles.': 3, 'It results in the release of harmful chemicals such as sulfur dioxide, nitrogen oxides, and particulate matter into the air, which can cause respiratory problems, cardiovascular disease, and other health issues.': 4, 'Water pollution occurs when chemicals and waste products are released into bodies of water, causing harm to aquatic life and threatening human health.': 5, 'Sources of water pollution include industrial effluent, agricultural runoff, and sewage.': 6, 'Soil pollution is caused by the accumulation of hazardous chemicals and waste products in the ground, which can result in the contamination of crops and other food sources.': 7, 'Noise pollution is caused by excessive noise from various sources, including transportation, construction, and industrial activities.': 8, 'It can cause hearing damage and disrupt the balance of wildlife populations.': 9, 'Global pollution is a major threat to human health and the environment, and it is essential that steps are taken to reduce its impact.': 10, 'This can be achieved through the adoption of sustainable practices in industry, transportation, and agriculture, as well as the implementation of environmental regulations and policies aimed at reducing pollution and protecting the environment.': 11, 'In conclusion, global pollution is a complex and pressing issue that requires the cooperation and efforts of individuals, organizations, and governments worldwide to effectively address.': 12}\n"
          ]
        }
      ]
    },
    {
      "cell_type": "markdown",
      "source": [
        "**Creating TF-IDF model**"
      ],
      "metadata": {
        "id": "crRig9HbPy3Z"
      }
    },
    {
      "cell_type": "code",
      "source": [
        "tf_idf_vectorizer = TfidfVectorizer(min_df=2,  max_features=None, \n",
        "                                    strip_accents='unicode', \n",
        "                                    analyzer='word',\n",
        "                                    token_pattern=r'\\w{1,}',\n",
        "                                    ngram_range=(1, 3), \n",
        "                                    use_idf=1,smooth_idf=1,\n",
        "                                    sublinear_tf=1,\n",
        "                                    stop_words = 'english')"
      ],
      "metadata": {
        "id": "ICEXW75IL2fn"
      },
      "execution_count": null,
      "outputs": []
    },
    {
      "cell_type": "code",
      "source": [
        "tf_idf_vectorizer.fit(sentences)"
      ],
      "metadata": {
        "id": "cwlHd5_pL5M8",
        "colab": {
          "base_uri": "https://localhost:8080/",
          "height": 164
        },
        "outputId": "c5bfa94a-b0ea-4464-961e-1678e3493268"
      },
      "execution_count": null,
      "outputs": [
        {
          "output_type": "stream",
          "name": "stderr",
          "text": [
            "/usr/local/lib/python3.9/dist-packages/sklearn/utils/_param_validation.py:558: FutureWarning: Passing an int for a boolean parameter is deprecated in version 1.2 and won't be supported anymore in version 1.4.\n",
            "  warnings.warn(\n"
          ]
        },
        {
          "output_type": "execute_result",
          "data": {
            "text/plain": [
              "TfidfVectorizer(min_df=2, ngram_range=(1, 3), smooth_idf=1,\n",
              "                stop_words='english', strip_accents='unicode', sublinear_tf=1,\n",
              "                token_pattern='\\\\w{1,}', use_idf=1)"
            ],
            "text/html": [
              "<style>#sk-container-id-1 {color: black;background-color: white;}#sk-container-id-1 pre{padding: 0;}#sk-container-id-1 div.sk-toggleable {background-color: white;}#sk-container-id-1 label.sk-toggleable__label {cursor: pointer;display: block;width: 100%;margin-bottom: 0;padding: 0.3em;box-sizing: border-box;text-align: center;}#sk-container-id-1 label.sk-toggleable__label-arrow:before {content: \"▸\";float: left;margin-right: 0.25em;color: #696969;}#sk-container-id-1 label.sk-toggleable__label-arrow:hover:before {color: black;}#sk-container-id-1 div.sk-estimator:hover label.sk-toggleable__label-arrow:before {color: black;}#sk-container-id-1 div.sk-toggleable__content {max-height: 0;max-width: 0;overflow: hidden;text-align: left;background-color: #f0f8ff;}#sk-container-id-1 div.sk-toggleable__content pre {margin: 0.2em;color: black;border-radius: 0.25em;background-color: #f0f8ff;}#sk-container-id-1 input.sk-toggleable__control:checked~div.sk-toggleable__content {max-height: 200px;max-width: 100%;overflow: auto;}#sk-container-id-1 input.sk-toggleable__control:checked~label.sk-toggleable__label-arrow:before {content: \"▾\";}#sk-container-id-1 div.sk-estimator input.sk-toggleable__control:checked~label.sk-toggleable__label {background-color: #d4ebff;}#sk-container-id-1 div.sk-label input.sk-toggleable__control:checked~label.sk-toggleable__label {background-color: #d4ebff;}#sk-container-id-1 input.sk-hidden--visually {border: 0;clip: rect(1px 1px 1px 1px);clip: rect(1px, 1px, 1px, 1px);height: 1px;margin: -1px;overflow: hidden;padding: 0;position: absolute;width: 1px;}#sk-container-id-1 div.sk-estimator {font-family: monospace;background-color: #f0f8ff;border: 1px dotted black;border-radius: 0.25em;box-sizing: border-box;margin-bottom: 0.5em;}#sk-container-id-1 div.sk-estimator:hover {background-color: #d4ebff;}#sk-container-id-1 div.sk-parallel-item::after {content: \"\";width: 100%;border-bottom: 1px solid gray;flex-grow: 1;}#sk-container-id-1 div.sk-label:hover label.sk-toggleable__label {background-color: #d4ebff;}#sk-container-id-1 div.sk-serial::before {content: \"\";position: absolute;border-left: 1px solid gray;box-sizing: border-box;top: 0;bottom: 0;left: 50%;z-index: 0;}#sk-container-id-1 div.sk-serial {display: flex;flex-direction: column;align-items: center;background-color: white;padding-right: 0.2em;padding-left: 0.2em;position: relative;}#sk-container-id-1 div.sk-item {position: relative;z-index: 1;}#sk-container-id-1 div.sk-parallel {display: flex;align-items: stretch;justify-content: center;background-color: white;position: relative;}#sk-container-id-1 div.sk-item::before, #sk-container-id-1 div.sk-parallel-item::before {content: \"\";position: absolute;border-left: 1px solid gray;box-sizing: border-box;top: 0;bottom: 0;left: 50%;z-index: -1;}#sk-container-id-1 div.sk-parallel-item {display: flex;flex-direction: column;z-index: 1;position: relative;background-color: white;}#sk-container-id-1 div.sk-parallel-item:first-child::after {align-self: flex-end;width: 50%;}#sk-container-id-1 div.sk-parallel-item:last-child::after {align-self: flex-start;width: 50%;}#sk-container-id-1 div.sk-parallel-item:only-child::after {width: 0;}#sk-container-id-1 div.sk-dashed-wrapped {border: 1px dashed gray;margin: 0 0.4em 0.5em 0.4em;box-sizing: border-box;padding-bottom: 0.4em;background-color: white;}#sk-container-id-1 div.sk-label label {font-family: monospace;font-weight: bold;display: inline-block;line-height: 1.2em;}#sk-container-id-1 div.sk-label-container {text-align: center;}#sk-container-id-1 div.sk-container {/* jupyter's `normalize.less` sets `[hidden] { display: none; }` but bootstrap.min.css set `[hidden] { display: none !important; }` so we also need the `!important` here to be able to override the default hidden behavior on the sphinx rendered scikit-learn.org. See: https://github.com/scikit-learn/scikit-learn/issues/21755 */display: inline-block !important;position: relative;}#sk-container-id-1 div.sk-text-repr-fallback {display: none;}</style><div id=\"sk-container-id-1\" class=\"sk-top-container\"><div class=\"sk-text-repr-fallback\"><pre>TfidfVectorizer(min_df=2, ngram_range=(1, 3), smooth_idf=1,\n",
              "                stop_words=&#x27;english&#x27;, strip_accents=&#x27;unicode&#x27;, sublinear_tf=1,\n",
              "                token_pattern=&#x27;\\\\w{1,}&#x27;, use_idf=1)</pre><b>In a Jupyter environment, please rerun this cell to show the HTML representation or trust the notebook. <br />On GitHub, the HTML representation is unable to render, please try loading this page with nbviewer.org.</b></div><div class=\"sk-container\" hidden><div class=\"sk-item\"><div class=\"sk-estimator sk-toggleable\"><input class=\"sk-toggleable__control sk-hidden--visually\" id=\"sk-estimator-id-1\" type=\"checkbox\" checked><label for=\"sk-estimator-id-1\" class=\"sk-toggleable__label sk-toggleable__label-arrow\">TfidfVectorizer</label><div class=\"sk-toggleable__content\"><pre>TfidfVectorizer(min_df=2, ngram_range=(1, 3), smooth_idf=1,\n",
              "                stop_words=&#x27;english&#x27;, strip_accents=&#x27;unicode&#x27;, sublinear_tf=1,\n",
              "                token_pattern=&#x27;\\\\w{1,}&#x27;, use_idf=1)</pre></div></div></div></div></div>"
            ]
          },
          "metadata": {},
          "execution_count": 9
        }
      ]
    },
    {
      "cell_type": "code",
      "source": [
        "sentence_vectors = tf_idf_vectorizer.transform(sentences)"
      ],
      "metadata": {
        "id": "Uv7CNHxLL7C-"
      },
      "execution_count": null,
      "outputs": []
    },
    {
      "cell_type": "code",
      "source": [
        "# Getting sentence scores for each sentences\n",
        "sentence_scores = np.array(sentence_vectors.sum(axis=1)).ravel()\n",
        "\n",
        "print(len(sentences) == len(sentence_scores))"
      ],
      "metadata": {
        "id": "itlZb8PYL9N1",
        "colab": {
          "base_uri": "https://localhost:8080/"
        },
        "outputId": "21cf3d52-5551-45e7-dbe2-070c05443b13"
      },
      "execution_count": null,
      "outputs": [
        {
          "output_type": "stream",
          "name": "stdout",
          "text": [
            "True\n"
          ]
        }
      ]
    },
    {
      "cell_type": "code",
      "source": [
        "# Getting top-n sentences\n",
        "N = 5\n",
        "top_n_sentences = [sentences[ind] for ind in np.argsort(sentence_scores, axis=0)[::-1][:N]]"
      ],
      "metadata": {
        "id": "f3YeOIuWMA85"
      },
      "execution_count": null,
      "outputs": []
    },
    {
      "cell_type": "code",
      "source": [
        "mapped_top_n_sentences = [(sentence,sentence_organizer[sentence]) for sentence in top_n_sentences]\n",
        "print(\"Our top_n_sentence with their index: \\n\")\n",
        "for element in mapped_top_n_sentences:\n",
        "    print(element)\n",
        "\n",
        "# Ordering our top-n sentences in their original ordering\n",
        "mapped_top_n_sentences = sorted(mapped_top_n_sentences, key = lambda x: x[1])\n",
        "ordered_scored_sentences = [element[0] for element in mapped_top_n_sentences]\n",
        "\n",
        "# Our final summary\n",
        "summary = \" \".join(ordered_scored_sentences)"
      ],
      "metadata": {
        "id": "BbO9bfOQMGmx",
        "colab": {
          "base_uri": "https://localhost:8080/"
        },
        "outputId": "28234a96-2717-4881-e1d3-94fe2a047858"
      },
      "execution_count": null,
      "outputs": [
        {
          "output_type": "stream",
          "name": "stdout",
          "text": [
            "Our top_n_sentence with their index: \n",
            "\n",
            "('Water pollution occurs when chemicals and waste products are released into bodies of water, causing harm to aquatic life and threatening human health.', 5)\n",
            "('Soil pollution is caused by the accumulation of hazardous chemicals and waste products in the ground, which can result in the contamination of crops and other food sources.', 7)\n",
            "('Noise pollution is caused by excessive noise from various sources, including transportation, construction, and industrial activities.', 8)\n",
            "('Global pollution refers to the presence of harmful substances in the environment that cause negative impacts on human health and the ecosystem.', 0)\n",
            "('It affects both the natural and built environment, and can be caused by various human activities such as industrialization, transportation, and agriculture.', 1)\n"
          ]
        }
      ]
    },
    {
      "cell_type": "code",
      "source": [
        "print(\"Summary: \\n\", summary)"
      ],
      "metadata": {
        "id": "UUpmWnZNMI0z",
        "colab": {
          "base_uri": "https://localhost:8080/"
        },
        "outputId": "fbf1e300-6e24-417c-ef57-e040d117b7dc"
      },
      "execution_count": null,
      "outputs": [
        {
          "output_type": "stream",
          "name": "stdout",
          "text": [
            "Summary: \n",
            " Global pollution refers to the presence of harmful substances in the environment that cause negative impacts on human health and the ecosystem. It affects both the natural and built environment, and can be caused by various human activities such as industrialization, transportation, and agriculture. Water pollution occurs when chemicals and waste products are released into bodies of water, causing harm to aquatic life and threatening human health. Soil pollution is caused by the accumulation of hazardous chemicals and waste products in the ground, which can result in the contamination of crops and other food sources. Noise pollution is caused by excessive noise from various sources, including transportation, construction, and industrial activities.\n"
          ]
        }
      ]
    }
  ]
}